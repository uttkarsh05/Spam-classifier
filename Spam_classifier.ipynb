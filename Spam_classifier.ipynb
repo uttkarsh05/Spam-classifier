{
  "nbformat": 4,
  "nbformat_minor": 0,
  "metadata": {
    "colab": {
      "name": "Spam classifier .ipynb",
      "provenance": [],
      "collapsed_sections": []
    },
    "kernelspec": {
      "name": "python3",
      "display_name": "Python 3"
    },
    "language_info": {
      "name": "python"
    }
  },
  "cells": [
    {
      "cell_type": "markdown",
      "source": [
        "# Importing Libraries"
      ],
      "metadata": {
        "id": "gdY26vjEdIHm"
      }
    },
    {
      "cell_type": "code",
      "source": [
        "import pandas as pd\n",
        "import numpy as np \n",
        "import matplotlib.pyplot as plt\n",
        "import seaborn as sns\n",
        "import random\n",
        "import re\n",
        "import string\n",
        "import nltk\n",
        "from nltk.corpus import stopwords\n",
        "from sklearn.model_selection import train_test_split\n",
        "from nltk.corpus import stopwords\n",
        "from nltk.corpus import words\n",
        "from sklearn.metrics import classification_report\n",
        "from sklearn.metrics import plot_confusion_matrix\n",
        "from sklearn.metrics import f1_score\n",
        "nltk.download('stopwords')\n",
        "nltk.download('punkt')\n",
        "nltk.download('words')\n",
        "!pip install striprtf\n",
        "words = set(nltk.corpus.words.words())\n",
        "stop_words = set(stopwords.words('english'))"
      ],
      "metadata": {
        "id": "XjiWoN8ZMcxT",
        "colab": {
          "base_uri": "https://localhost:8080/"
        },
        "outputId": "16473af9-1bb0-451b-dcdf-ec2efe0d1dc0"
      },
      "execution_count": 80,
      "outputs": [
        {
          "output_type": "stream",
          "name": "stdout",
          "text": [
            "[nltk_data] Downloading package stopwords to /root/nltk_data...\n",
            "[nltk_data]   Package stopwords is already up-to-date!\n",
            "[nltk_data] Downloading package punkt to /root/nltk_data...\n",
            "[nltk_data]   Package punkt is already up-to-date!\n",
            "[nltk_data] Downloading package words to /root/nltk_data...\n",
            "[nltk_data]   Package words is already up-to-date!\n",
            "Collecting striprtf\n",
            "  Downloading striprtf-0.0.20-py3-none-any.whl (6.5 kB)\n",
            "Installing collected packages: striprtf\n",
            "Successfully installed striprtf-0.0.20\n"
          ]
        }
      ]
    },
    {
      "cell_type": "markdown",
      "source": [
        "## Reading Data "
      ],
      "metadata": {
        "id": "rQIJaS3f8mab"
      }
    },
    {
      "cell_type": "code",
      "source": [
        "data = pd.read_csv('spam.csv')\n",
        "data.head()"
      ],
      "metadata": {
        "colab": {
          "base_uri": "https://localhost:8080/",
          "height": 206
        },
        "id": "uIPUB5XYMUS8",
        "outputId": "6359ae1b-570a-4df3-f681-93ba6596dfb0"
      },
      "execution_count": 2,
      "outputs": [
        {
          "output_type": "execute_result",
          "data": {
            "text/plain": [
              "  Category                                            Message\n",
              "0      ham  Go until jurong point, crazy.. Available only ...\n",
              "1      ham                      Ok lar... Joking wif u oni...\n",
              "2     spam  Free entry in 2 a wkly comp to win FA Cup fina...\n",
              "3      ham  U dun say so early hor... U c already then say...\n",
              "4      ham  Nah I don't think he goes to usf, he lives aro..."
            ],
            "text/html": [
              "\n",
              "  <div id=\"df-40632136-b72f-4c4a-991c-f7a0eff89b8a\">\n",
              "    <div class=\"colab-df-container\">\n",
              "      <div>\n",
              "<style scoped>\n",
              "    .dataframe tbody tr th:only-of-type {\n",
              "        vertical-align: middle;\n",
              "    }\n",
              "\n",
              "    .dataframe tbody tr th {\n",
              "        vertical-align: top;\n",
              "    }\n",
              "\n",
              "    .dataframe thead th {\n",
              "        text-align: right;\n",
              "    }\n",
              "</style>\n",
              "<table border=\"1\" class=\"dataframe\">\n",
              "  <thead>\n",
              "    <tr style=\"text-align: right;\">\n",
              "      <th></th>\n",
              "      <th>Category</th>\n",
              "      <th>Message</th>\n",
              "    </tr>\n",
              "  </thead>\n",
              "  <tbody>\n",
              "    <tr>\n",
              "      <th>0</th>\n",
              "      <td>ham</td>\n",
              "      <td>Go until jurong point, crazy.. Available only ...</td>\n",
              "    </tr>\n",
              "    <tr>\n",
              "      <th>1</th>\n",
              "      <td>ham</td>\n",
              "      <td>Ok lar... Joking wif u oni...</td>\n",
              "    </tr>\n",
              "    <tr>\n",
              "      <th>2</th>\n",
              "      <td>spam</td>\n",
              "      <td>Free entry in 2 a wkly comp to win FA Cup fina...</td>\n",
              "    </tr>\n",
              "    <tr>\n",
              "      <th>3</th>\n",
              "      <td>ham</td>\n",
              "      <td>U dun say so early hor... U c already then say...</td>\n",
              "    </tr>\n",
              "    <tr>\n",
              "      <th>4</th>\n",
              "      <td>ham</td>\n",
              "      <td>Nah I don't think he goes to usf, he lives aro...</td>\n",
              "    </tr>\n",
              "  </tbody>\n",
              "</table>\n",
              "</div>\n",
              "      <button class=\"colab-df-convert\" onclick=\"convertToInteractive('df-40632136-b72f-4c4a-991c-f7a0eff89b8a')\"\n",
              "              title=\"Convert this dataframe to an interactive table.\"\n",
              "              style=\"display:none;\">\n",
              "        \n",
              "  <svg xmlns=\"http://www.w3.org/2000/svg\" height=\"24px\"viewBox=\"0 0 24 24\"\n",
              "       width=\"24px\">\n",
              "    <path d=\"M0 0h24v24H0V0z\" fill=\"none\"/>\n",
              "    <path d=\"M18.56 5.44l.94 2.06.94-2.06 2.06-.94-2.06-.94-.94-2.06-.94 2.06-2.06.94zm-11 1L8.5 8.5l.94-2.06 2.06-.94-2.06-.94L8.5 2.5l-.94 2.06-2.06.94zm10 10l.94 2.06.94-2.06 2.06-.94-2.06-.94-.94-2.06-.94 2.06-2.06.94z\"/><path d=\"M17.41 7.96l-1.37-1.37c-.4-.4-.92-.59-1.43-.59-.52 0-1.04.2-1.43.59L10.3 9.45l-7.72 7.72c-.78.78-.78 2.05 0 2.83L4 21.41c.39.39.9.59 1.41.59.51 0 1.02-.2 1.41-.59l7.78-7.78 2.81-2.81c.8-.78.8-2.07 0-2.86zM5.41 20L4 18.59l7.72-7.72 1.47 1.35L5.41 20z\"/>\n",
              "  </svg>\n",
              "      </button>\n",
              "      \n",
              "  <style>\n",
              "    .colab-df-container {\n",
              "      display:flex;\n",
              "      flex-wrap:wrap;\n",
              "      gap: 12px;\n",
              "    }\n",
              "\n",
              "    .colab-df-convert {\n",
              "      background-color: #E8F0FE;\n",
              "      border: none;\n",
              "      border-radius: 50%;\n",
              "      cursor: pointer;\n",
              "      display: none;\n",
              "      fill: #1967D2;\n",
              "      height: 32px;\n",
              "      padding: 0 0 0 0;\n",
              "      width: 32px;\n",
              "    }\n",
              "\n",
              "    .colab-df-convert:hover {\n",
              "      background-color: #E2EBFA;\n",
              "      box-shadow: 0px 1px 2px rgba(60, 64, 67, 0.3), 0px 1px 3px 1px rgba(60, 64, 67, 0.15);\n",
              "      fill: #174EA6;\n",
              "    }\n",
              "\n",
              "    [theme=dark] .colab-df-convert {\n",
              "      background-color: #3B4455;\n",
              "      fill: #D2E3FC;\n",
              "    }\n",
              "\n",
              "    [theme=dark] .colab-df-convert:hover {\n",
              "      background-color: #434B5C;\n",
              "      box-shadow: 0px 1px 3px 1px rgba(0, 0, 0, 0.15);\n",
              "      filter: drop-shadow(0px 1px 2px rgba(0, 0, 0, 0.3));\n",
              "      fill: #FFFFFF;\n",
              "    }\n",
              "  </style>\n",
              "\n",
              "      <script>\n",
              "        const buttonEl =\n",
              "          document.querySelector('#df-40632136-b72f-4c4a-991c-f7a0eff89b8a button.colab-df-convert');\n",
              "        buttonEl.style.display =\n",
              "          google.colab.kernel.accessAllowed ? 'block' : 'none';\n",
              "\n",
              "        async function convertToInteractive(key) {\n",
              "          const element = document.querySelector('#df-40632136-b72f-4c4a-991c-f7a0eff89b8a');\n",
              "          const dataTable =\n",
              "            await google.colab.kernel.invokeFunction('convertToInteractive',\n",
              "                                                     [key], {});\n",
              "          if (!dataTable) return;\n",
              "\n",
              "          const docLinkHtml = 'Like what you see? Visit the ' +\n",
              "            '<a target=\"_blank\" href=https://colab.research.google.com/notebooks/data_table.ipynb>data table notebook</a>'\n",
              "            + ' to learn more about interactive tables.';\n",
              "          element.innerHTML = '';\n",
              "          dataTable['output_type'] = 'display_data';\n",
              "          await google.colab.output.renderOutput(dataTable, element);\n",
              "          const docLink = document.createElement('div');\n",
              "          docLink.innerHTML = docLinkHtml;\n",
              "          element.appendChild(docLink);\n",
              "        }\n",
              "      </script>\n",
              "    </div>\n",
              "  </div>\n",
              "  "
            ]
          },
          "metadata": {},
          "execution_count": 2
        }
      ]
    },
    {
      "cell_type": "code",
      "source": [
        "len(data)"
      ],
      "metadata": {
        "colab": {
          "base_uri": "https://localhost:8080/"
        },
        "id": "7B2VInIk_tb4",
        "outputId": "397ba484-d7fd-4114-ffeb-28f8f7e9c7a1"
      },
      "execution_count": 3,
      "outputs": [
        {
          "output_type": "execute_result",
          "data": {
            "text/plain": [
              "5572"
            ]
          },
          "metadata": {},
          "execution_count": 3
        }
      ]
    },
    {
      "cell_type": "code",
      "source": [
        "p_spam = len(data[data['Category']=='spam'])/len(data)\n",
        "p_spam"
      ],
      "metadata": {
        "id": "xvHw1kgFnKCx",
        "colab": {
          "base_uri": "https://localhost:8080/"
        },
        "outputId": "68f08686-d2ac-4c2e-ba5d-773c12f62973"
      },
      "execution_count": 4,
      "outputs": [
        {
          "output_type": "execute_result",
          "data": {
            "text/plain": [
              "0.13406317300789664"
            ]
          },
          "metadata": {},
          "execution_count": 4
        }
      ]
    },
    {
      "cell_type": "markdown",
      "source": [
        "Percentage of spam emails is around 13.5%"
      ],
      "metadata": {
        "id": "nz0rnjF7tYos"
      }
    },
    {
      "cell_type": "code",
      "source": [
        "X = data['Message']\n",
        "y = data['Category']"
      ],
      "metadata": {
        "id": "x9fNnSQ-OPtU"
      },
      "execution_count": 5,
      "outputs": []
    },
    {
      "cell_type": "markdown",
      "source": [
        "# Preprocessing Data"
      ],
      "metadata": {
        "id": "wFqKO29Gtiy9"
      }
    },
    {
      "cell_type": "markdown",
      "source": [
        "Helper functions to remove hyperlinks , punctutations and to convert every character to lower case"
      ],
      "metadata": {
        "id": "sNRWRosw9uBp"
      }
    },
    {
      "cell_type": "code",
      "source": [
        "def remove_hyperlink(word):\n",
        "    return  re.sub(r\"http\\S+\", \" \", word)\n",
        "\n",
        "def to_lower(word):\n",
        "    result = word.lower()\n",
        "    return result\n",
        "\n",
        "def remove_number(word):\n",
        "    result = re.sub(r'\\d+', '', word)\n",
        "    return result\n",
        "\n",
        "def remove_punctuation(word):\n",
        "    result = word.translate(str.maketrans(dict.fromkeys(string.punctuation)))\n",
        "    return result\n",
        "\n",
        "\n",
        "\n",
        "def replace_newline(word):\n",
        "    word = word.replace('\\r',' ')\n",
        "    return word.replace('\\n',' ')\n",
        "\n",
        "\n",
        "\n",
        "def clean_up_pipeline(sentence):\n",
        "    cleaning_utils = [remove_hyperlink,\n",
        "                      replace_newline,\n",
        "                      to_lower,\n",
        "                      remove_number,\n",
        "                      remove_punctuation]\n",
        "    for o in cleaning_utils:\n",
        "        sentence = o(sentence)\n",
        "    return sentence\n"
      ],
      "metadata": {
        "id": "WMn9OM2QBqns"
      },
      "execution_count": 6,
      "outputs": []
    },
    {
      "cell_type": "code",
      "source": [
        "def Bag_of_words_fit(X):\n",
        "  for i in range(len(X)):\n",
        "      #print(i)\n",
        "\n",
        "      X[i] = clean_up_pipeline(X[i])\n",
        "  vocabulary={}\n",
        "  for i in range(len(X)):\n",
        "    for word in X[i].split():\n",
        "      if word not in stop_words and word in words and len(word)>1:\n",
        "        if word in vocabulary:\n",
        "          vocabulary[word][i]=1\n",
        "        else:\n",
        "          vocabulary[word]=np.zeros(len(X))\n",
        "          vocabulary[word][i]=1\n",
        "  \n",
        "  return vocabulary\n",
        "      \n",
        "  "
      ],
      "metadata": {
        "id": "xF8mV6F00Mzn"
      },
      "execution_count": 7,
      "outputs": []
    },
    {
      "cell_type": "code",
      "source": [
        "X_train, X_test, y_train, y_test = train_test_split(X, y, test_size=0.33)\n",
        "vocabulary  = Bag_of_words_fit(X_train.values)"
      ],
      "metadata": {
        "id": "2QYoDHxdPfHZ"
      },
      "execution_count": 8,
      "outputs": []
    },
    {
      "cell_type": "markdown",
      "source": [
        "#Feature extraction from raw text"
      ],
      "metadata": {
        "id": "kfemS_o8P0NI"
      }
    },
    {
      "cell_type": "code",
      "source": [
        "def bag_of_words_transform(X,vocabulary):\n",
        "  ratio_unique_words = []\n",
        "  for i in range(len(X)):\n",
        "    X[i] = clean_up_pipeline(X[i])\n",
        "    unique_words=len(set(X[i].split()))\n",
        "    try:\n",
        "      ratio_unique_words.append(unique_words/len(X[i].split()))\n",
        "    except:\n",
        "      ratio_unique_words.append(0)\n",
        "  \n",
        "  vocabulary = {word:np.zeros(len(X)) for word in vocabulary}\n",
        "  ratio_stop_words = np.zeros(len(X))\n",
        "  ratio_non_dict_words = np.zeros(len(X))\n",
        "  for i in range(len(X)):\n",
        "    for word in set(X[i].split()):\n",
        "      if word in stop_words:\n",
        "        ratio_stop_words[i]+=1\n",
        "      if word not in words:\n",
        "        ratio_non_dict_words[i]+=1\n",
        "      if word not in stop_words and word in words and len(word)>1:\n",
        "        if word in vocabulary:\n",
        "          vocabulary[word][i]=1\n",
        "      try:\n",
        "        ratio_stop_words[i] = ratio_stop_words[i]/len(X[i].split())\n",
        "        ratio_non_dict_words[i] = ratio_non_dict_words[i]/len(X[i].split())\n",
        "      except:\n",
        "        ratio_stop_words[i] = 0\n",
        "        ratio_non_dict_words[i] = 0\n",
        "  #print(len(vocabulary['sent']))\n",
        "  X_features  = pd.DataFrame(vocabulary)\n",
        "  X_features['ratio_unique_words'] = ratio_unique_words\n",
        "  X_features['ratio_stop_words'] = ratio_stop_words\n",
        "  X_features['ratio_non_dict_words'] = ratio_non_dict_words\n",
        "  return X_features\n"
      ],
      "metadata": {
        "id": "Ki3H5mh5eAgo"
      },
      "execution_count": 9,
      "outputs": []
    },
    {
      "cell_type": "markdown",
      "source": [
        "Extracting Vocabulary of words from training datasets and using that vocabulary to transform training and \n",
        "test datasets"
      ],
      "metadata": {
        "id": "13bUPsuVQLt_"
      }
    },
    {
      "cell_type": "code",
      "source": [
        "X_train_features = bag_of_words_transform(X_train.values,vocabulary)\n",
        "X_test_features = bag_of_words_transform(X_test.values,vocabulary)"
      ],
      "metadata": {
        "id": "lpJY6-1Vb-OH"
      },
      "execution_count": 10,
      "outputs": []
    },
    {
      "cell_type": "markdown",
      "source": [
        "**Features Extracted**\n",
        "\n",
        "1.   Vocabulary or Bag of words : Whether a word occurs or not in  an email (after removing stop words and gibberish words in preprocessing)\n",
        "2.   ratio_unique_words = ratio of unique words to total no of words in an email\n",
        "3.   ratio_stop_words = ratio of stop words to total no of words in an email\n",
        "4.   ratio_non_dict_words = ratio of gibberish words to total no of words in email\n",
        "\n"
      ],
      "metadata": {
        "id": "ndUvrh86VxxB"
      }
    },
    {
      "cell_type": "code",
      "source": [
        "X_train_features.head()"
      ],
      "metadata": {
        "colab": {
          "base_uri": "https://localhost:8080/",
          "height": 299
        },
        "id": "7ztLF4rDVsjZ",
        "outputId": "8636a47a-846c-43b7-fe5f-34c8ccd24107"
      },
      "execution_count": 11,
      "outputs": [
        {
          "output_type": "execute_result",
          "data": {
            "text/plain": [
              "   able  anything  yesterday  going  home  work  take  care  print  reach  \\\n",
              "0   1.0       1.0        0.0    0.0   0.0   0.0   0.0   0.0    0.0    0.0   \n",
              "1   0.0       0.0        1.0    1.0   1.0   0.0   0.0   0.0    0.0    0.0   \n",
              "2   0.0       0.0        0.0    0.0   0.0   1.0   0.0   0.0    0.0    0.0   \n",
              "3   0.0       0.0        0.0    0.0   0.0   0.0   1.0   1.0    0.0    0.0   \n",
              "4   0.0       0.0        0.0    0.0   0.0   0.0   0.0   0.0    0.0    0.0   \n",
              "\n",
              "   ...  ree  grandfather  eta  unemployed  unconsciously  unhappy  process  \\\n",
              "0  ...  0.0          0.0  0.0         0.0            0.0      0.0      0.0   \n",
              "1  ...  0.0          0.0  0.0         0.0            0.0      0.0      0.0   \n",
              "2  ...  0.0          0.0  0.0         0.0            0.0      0.0      0.0   \n",
              "3  ...  0.0          0.0  0.0         0.0            0.0      0.0      0.0   \n",
              "4  ...  0.0          0.0  0.0         0.0            0.0      0.0      0.0   \n",
              "\n",
              "   ratio_unique_words  ratio_stop_words  ratio_non_dict_words  \n",
              "0                 1.0          0.209600              0.000000  \n",
              "1                 1.0          0.112485              0.000000  \n",
              "2                 1.0          0.167460              0.004758  \n",
              "3                 1.0          0.040000              0.009600  \n",
              "4                 1.0          0.000000              1.000000  \n",
              "\n",
              "[5 rows x 3022 columns]"
            ],
            "text/html": [
              "\n",
              "  <div id=\"df-7b173aef-2d56-4e6a-be75-e49520a0d4ad\">\n",
              "    <div class=\"colab-df-container\">\n",
              "      <div>\n",
              "<style scoped>\n",
              "    .dataframe tbody tr th:only-of-type {\n",
              "        vertical-align: middle;\n",
              "    }\n",
              "\n",
              "    .dataframe tbody tr th {\n",
              "        vertical-align: top;\n",
              "    }\n",
              "\n",
              "    .dataframe thead th {\n",
              "        text-align: right;\n",
              "    }\n",
              "</style>\n",
              "<table border=\"1\" class=\"dataframe\">\n",
              "  <thead>\n",
              "    <tr style=\"text-align: right;\">\n",
              "      <th></th>\n",
              "      <th>able</th>\n",
              "      <th>anything</th>\n",
              "      <th>yesterday</th>\n",
              "      <th>going</th>\n",
              "      <th>home</th>\n",
              "      <th>work</th>\n",
              "      <th>take</th>\n",
              "      <th>care</th>\n",
              "      <th>print</th>\n",
              "      <th>reach</th>\n",
              "      <th>...</th>\n",
              "      <th>ree</th>\n",
              "      <th>grandfather</th>\n",
              "      <th>eta</th>\n",
              "      <th>unemployed</th>\n",
              "      <th>unconsciously</th>\n",
              "      <th>unhappy</th>\n",
              "      <th>process</th>\n",
              "      <th>ratio_unique_words</th>\n",
              "      <th>ratio_stop_words</th>\n",
              "      <th>ratio_non_dict_words</th>\n",
              "    </tr>\n",
              "  </thead>\n",
              "  <tbody>\n",
              "    <tr>\n",
              "      <th>0</th>\n",
              "      <td>1.0</td>\n",
              "      <td>1.0</td>\n",
              "      <td>0.0</td>\n",
              "      <td>0.0</td>\n",
              "      <td>0.0</td>\n",
              "      <td>0.0</td>\n",
              "      <td>0.0</td>\n",
              "      <td>0.0</td>\n",
              "      <td>0.0</td>\n",
              "      <td>0.0</td>\n",
              "      <td>...</td>\n",
              "      <td>0.0</td>\n",
              "      <td>0.0</td>\n",
              "      <td>0.0</td>\n",
              "      <td>0.0</td>\n",
              "      <td>0.0</td>\n",
              "      <td>0.0</td>\n",
              "      <td>0.0</td>\n",
              "      <td>1.0</td>\n",
              "      <td>0.209600</td>\n",
              "      <td>0.000000</td>\n",
              "    </tr>\n",
              "    <tr>\n",
              "      <th>1</th>\n",
              "      <td>0.0</td>\n",
              "      <td>0.0</td>\n",
              "      <td>1.0</td>\n",
              "      <td>1.0</td>\n",
              "      <td>1.0</td>\n",
              "      <td>0.0</td>\n",
              "      <td>0.0</td>\n",
              "      <td>0.0</td>\n",
              "      <td>0.0</td>\n",
              "      <td>0.0</td>\n",
              "      <td>...</td>\n",
              "      <td>0.0</td>\n",
              "      <td>0.0</td>\n",
              "      <td>0.0</td>\n",
              "      <td>0.0</td>\n",
              "      <td>0.0</td>\n",
              "      <td>0.0</td>\n",
              "      <td>0.0</td>\n",
              "      <td>1.0</td>\n",
              "      <td>0.112485</td>\n",
              "      <td>0.000000</td>\n",
              "    </tr>\n",
              "    <tr>\n",
              "      <th>2</th>\n",
              "      <td>0.0</td>\n",
              "      <td>0.0</td>\n",
              "      <td>0.0</td>\n",
              "      <td>0.0</td>\n",
              "      <td>0.0</td>\n",
              "      <td>1.0</td>\n",
              "      <td>0.0</td>\n",
              "      <td>0.0</td>\n",
              "      <td>0.0</td>\n",
              "      <td>0.0</td>\n",
              "      <td>...</td>\n",
              "      <td>0.0</td>\n",
              "      <td>0.0</td>\n",
              "      <td>0.0</td>\n",
              "      <td>0.0</td>\n",
              "      <td>0.0</td>\n",
              "      <td>0.0</td>\n",
              "      <td>0.0</td>\n",
              "      <td>1.0</td>\n",
              "      <td>0.167460</td>\n",
              "      <td>0.004758</td>\n",
              "    </tr>\n",
              "    <tr>\n",
              "      <th>3</th>\n",
              "      <td>0.0</td>\n",
              "      <td>0.0</td>\n",
              "      <td>0.0</td>\n",
              "      <td>0.0</td>\n",
              "      <td>0.0</td>\n",
              "      <td>0.0</td>\n",
              "      <td>1.0</td>\n",
              "      <td>1.0</td>\n",
              "      <td>0.0</td>\n",
              "      <td>0.0</td>\n",
              "      <td>...</td>\n",
              "      <td>0.0</td>\n",
              "      <td>0.0</td>\n",
              "      <td>0.0</td>\n",
              "      <td>0.0</td>\n",
              "      <td>0.0</td>\n",
              "      <td>0.0</td>\n",
              "      <td>0.0</td>\n",
              "      <td>1.0</td>\n",
              "      <td>0.040000</td>\n",
              "      <td>0.009600</td>\n",
              "    </tr>\n",
              "    <tr>\n",
              "      <th>4</th>\n",
              "      <td>0.0</td>\n",
              "      <td>0.0</td>\n",
              "      <td>0.0</td>\n",
              "      <td>0.0</td>\n",
              "      <td>0.0</td>\n",
              "      <td>0.0</td>\n",
              "      <td>0.0</td>\n",
              "      <td>0.0</td>\n",
              "      <td>0.0</td>\n",
              "      <td>0.0</td>\n",
              "      <td>...</td>\n",
              "      <td>0.0</td>\n",
              "      <td>0.0</td>\n",
              "      <td>0.0</td>\n",
              "      <td>0.0</td>\n",
              "      <td>0.0</td>\n",
              "      <td>0.0</td>\n",
              "      <td>0.0</td>\n",
              "      <td>1.0</td>\n",
              "      <td>0.000000</td>\n",
              "      <td>1.000000</td>\n",
              "    </tr>\n",
              "  </tbody>\n",
              "</table>\n",
              "<p>5 rows × 3022 columns</p>\n",
              "</div>\n",
              "      <button class=\"colab-df-convert\" onclick=\"convertToInteractive('df-7b173aef-2d56-4e6a-be75-e49520a0d4ad')\"\n",
              "              title=\"Convert this dataframe to an interactive table.\"\n",
              "              style=\"display:none;\">\n",
              "        \n",
              "  <svg xmlns=\"http://www.w3.org/2000/svg\" height=\"24px\"viewBox=\"0 0 24 24\"\n",
              "       width=\"24px\">\n",
              "    <path d=\"M0 0h24v24H0V0z\" fill=\"none\"/>\n",
              "    <path d=\"M18.56 5.44l.94 2.06.94-2.06 2.06-.94-2.06-.94-.94-2.06-.94 2.06-2.06.94zm-11 1L8.5 8.5l.94-2.06 2.06-.94-2.06-.94L8.5 2.5l-.94 2.06-2.06.94zm10 10l.94 2.06.94-2.06 2.06-.94-2.06-.94-.94-2.06-.94 2.06-2.06.94z\"/><path d=\"M17.41 7.96l-1.37-1.37c-.4-.4-.92-.59-1.43-.59-.52 0-1.04.2-1.43.59L10.3 9.45l-7.72 7.72c-.78.78-.78 2.05 0 2.83L4 21.41c.39.39.9.59 1.41.59.51 0 1.02-.2 1.41-.59l7.78-7.78 2.81-2.81c.8-.78.8-2.07 0-2.86zM5.41 20L4 18.59l7.72-7.72 1.47 1.35L5.41 20z\"/>\n",
              "  </svg>\n",
              "      </button>\n",
              "      \n",
              "  <style>\n",
              "    .colab-df-container {\n",
              "      display:flex;\n",
              "      flex-wrap:wrap;\n",
              "      gap: 12px;\n",
              "    }\n",
              "\n",
              "    .colab-df-convert {\n",
              "      background-color: #E8F0FE;\n",
              "      border: none;\n",
              "      border-radius: 50%;\n",
              "      cursor: pointer;\n",
              "      display: none;\n",
              "      fill: #1967D2;\n",
              "      height: 32px;\n",
              "      padding: 0 0 0 0;\n",
              "      width: 32px;\n",
              "    }\n",
              "\n",
              "    .colab-df-convert:hover {\n",
              "      background-color: #E2EBFA;\n",
              "      box-shadow: 0px 1px 2px rgba(60, 64, 67, 0.3), 0px 1px 3px 1px rgba(60, 64, 67, 0.15);\n",
              "      fill: #174EA6;\n",
              "    }\n",
              "\n",
              "    [theme=dark] .colab-df-convert {\n",
              "      background-color: #3B4455;\n",
              "      fill: #D2E3FC;\n",
              "    }\n",
              "\n",
              "    [theme=dark] .colab-df-convert:hover {\n",
              "      background-color: #434B5C;\n",
              "      box-shadow: 0px 1px 3px 1px rgba(0, 0, 0, 0.15);\n",
              "      filter: drop-shadow(0px 1px 2px rgba(0, 0, 0, 0.3));\n",
              "      fill: #FFFFFF;\n",
              "    }\n",
              "  </style>\n",
              "\n",
              "      <script>\n",
              "        const buttonEl =\n",
              "          document.querySelector('#df-7b173aef-2d56-4e6a-be75-e49520a0d4ad button.colab-df-convert');\n",
              "        buttonEl.style.display =\n",
              "          google.colab.kernel.accessAllowed ? 'block' : 'none';\n",
              "\n",
              "        async function convertToInteractive(key) {\n",
              "          const element = document.querySelector('#df-7b173aef-2d56-4e6a-be75-e49520a0d4ad');\n",
              "          const dataTable =\n",
              "            await google.colab.kernel.invokeFunction('convertToInteractive',\n",
              "                                                     [key], {});\n",
              "          if (!dataTable) return;\n",
              "\n",
              "          const docLinkHtml = 'Like what you see? Visit the ' +\n",
              "            '<a target=\"_blank\" href=https://colab.research.google.com/notebooks/data_table.ipynb>data table notebook</a>'\n",
              "            + ' to learn more about interactive tables.';\n",
              "          element.innerHTML = '';\n",
              "          dataTable['output_type'] = 'display_data';\n",
              "          await google.colab.output.renderOutput(dataTable, element);\n",
              "          const docLink = document.createElement('div');\n",
              "          docLink.innerHTML = docLinkHtml;\n",
              "          element.appendChild(docLink);\n",
              "        }\n",
              "      </script>\n",
              "    </div>\n",
              "  </div>\n",
              "  "
            ]
          },
          "metadata": {},
          "execution_count": 11
        }
      ]
    },
    {
      "cell_type": "markdown",
      "source": [
        "# Classification Model testing "
      ],
      "metadata": {
        "id": "tFjy2zEiXNl7"
      }
    },
    {
      "cell_type": "markdown",
      "source": [
        "Using Linear SVC as our classifier "
      ],
      "metadata": {
        "id": "5WScs7mxXYNB"
      }
    },
    {
      "cell_type": "code",
      "source": [
        "from sklearn.svm import SVC\n",
        "classifier = SVC(kernel='linear',C = 1)\n",
        "classifier.fit(X_train_features, y_train)\n",
        "y_pred = classifier.predict(X_test_features)"
      ],
      "metadata": {
        "id": "Lu0kv52HWHWk"
      },
      "execution_count": 15,
      "outputs": []
    },
    {
      "cell_type": "code",
      "source": [
        "print(classifier.score(X_test_features,y_test))"
      ],
      "metadata": {
        "colab": {
          "base_uri": "https://localhost:8080/"
        },
        "id": "Ok7IHuK6WRl0",
        "outputId": "77184916-e125-477e-9c8a-cc56cc7cc853"
      },
      "execution_count": 16,
      "outputs": [
        {
          "output_type": "stream",
          "name": "stdout",
          "text": [
            "0.9744426318651441\n"
          ]
        }
      ]
    },
    {
      "cell_type": "markdown",
      "source": [
        "Classifier is giving 96% accuracy on test set , but in binary classification accuracy is not only the good metric to see the model performance\n",
        "Two more metrics can be used:\n",
        "\n",
        "1.   Precision = True Positives/(True Positives + False Positives)\n",
        "2.   Recall = True Positives/(True Positives + False Negatives)\n",
        "\n",
        "(Note: true positives means the no of email which was classified as spam and the mail was actually a spam email.Similar form can be derived by replacing positives to negatives)\n",
        "\n",
        "As we have 13% spam emails in the data set so a model which predicts all mails as spam will give 87% accuracy.\n",
        "As a spam classifier we want less no of false positives meaning the non spam mail to be classified as spam mail must be minimum with good accuracy.\n",
        "\n",
        "But precision and Recall can go in opposite directions one w=increasing with other decreasing , so we deifne a f1 score metric as folows:\n",
        "\n",
        "**F1 score = 2 * precision*recall/(precision+recall)**"
      ],
      "metadata": {
        "id": "kRQoBzPUXmbJ"
      }
    },
    {
      "cell_type": "code",
      "source": [
        "f1_score(y_test, y_pred, average='weighted')"
      ],
      "metadata": {
        "colab": {
          "base_uri": "https://localhost:8080/"
        },
        "id": "QqloyJwyk1ge",
        "outputId": "b59c94fb-7809-4ee2-a6bc-8ecd9a7bafe3"
      },
      "execution_count": 17,
      "outputs": [
        {
          "output_type": "execute_result",
          "data": {
            "text/plain": [
              "0.9741786889967918"
            ]
          },
          "metadata": {},
          "execution_count": 17
        }
      ]
    },
    {
      "cell_type": "code",
      "source": [
        "tn, fp, fn, tp = confusion_matrix(y_test.values, y_pred).ravel()"
      ],
      "metadata": {
        "id": "59nJddwpkx96"
      },
      "execution_count": 40,
      "outputs": []
    },
    {
      "cell_type": "markdown",
      "source": [
        "# Hyperparameter Tuning "
      ],
      "metadata": {
        "id": "okqCnWnHtE4b"
      }
    },
    {
      "cell_type": "code",
      "source": [
        "def split(X,y,k):\n",
        "    y_batches = []\n",
        "    X_batches = []\n",
        "    index = list(range(len(X)))\n",
        "    size = int(len(X)/k)\n",
        "    #print(size)\n",
        "    for i in range(k):\n",
        "        randomindex = random.sample(index,size)\n",
        "        #print(random_index)\n",
        "        X_temp = pd.DataFrame(X.values[randomindex])\n",
        "        X_batches.append(X_temp)\n",
        "        y_temp = pd.DataFrame(y[randomindex].values)\n",
        "        y_batches.append(y_temp)\n",
        "        for r in randomindex:\n",
        "          index.remove(r)\n",
        "    return X_batches , y_batches\n",
        "\n",
        "\n",
        "def make_batches(X_batches,y_batches , i):\n",
        "    X_val = X_batches[i]\n",
        "    y_val = y_batches[i][0]\n",
        "    X_train = pd.concat(X_batches[0:i]+X_batches[i+1:],axis = 0 ,ignore_index=True)\n",
        "    y_train = pd.concat(y_batches[0:i]+y_batches[i+1:],axis = 0 ,ignore_index=True)[0]\n",
        "    return X_train,y_train,X_val,y_val\n",
        "\n",
        "def Cross_Validate(X,y,k,lamdas):\n",
        "    X_batches , y_batches = split(X,y,k)\n",
        "    #splitting X,y datasets into batches and returning list of batches for X and y \n",
        "    f1 = {}\n",
        "    #r2 score dictionary to store lamda values with the avg r2 score they generate over validation sets\n",
        "    for l in lamdas :\n",
        "        f1_lamda = []\n",
        "        for i in range(k):\n",
        "            #print(i)\n",
        "            X_train , y_train , X_val , y_val = make_batches(X_batches,y_batches,i)\n",
        "            \n",
        "            #print(y_val)\n",
        "            #vocabulary  = Bag_of_words_fit(X_train[0].values)\n",
        "            X_train_features = bag_of_words_transform(X_train[0].values,vocabulary)\n",
        "            X_val_features = bag_of_words_transform(X_val[0].values,vocabulary)\n",
        "            classifier = SVC(kernel='linear',C = l)\n",
        "            classifier.fit(X_train_features,y_train)\n",
        "            y_pred = classifier.predict(X_val_features)\n",
        "            #print(X_val)\n",
        "            f1_lamda.append(f1_score(y_val,y_pred,average= 'weighted'))\n",
        "        f1[l] = sum(f1_lamda)/len(f1_lamda)\n",
        "        #print(mse[l])\n",
        "    return  max(f1,key = f1.get) , f1"
      ],
      "metadata": {
        "id": "KtEeGkE1FtOb"
      },
      "execution_count": 81,
      "outputs": []
    },
    {
      "cell_type": "code",
      "source": [
        "c , f1 = Cross_Validate(X_train,y_train,k=5,lamdas=[1e-6,1e-5,1e-4,1e-3,1e-2,1e-1,1,1e+1])"
      ],
      "metadata": {
        "id": "FxViLuScpnmv"
      },
      "execution_count": 82,
      "outputs": []
    },
    {
      "cell_type": "code",
      "source": [
        "f1"
      ],
      "metadata": {
        "colab": {
          "base_uri": "https://localhost:8080/"
        },
        "id": "pZIwSpYBw5pz",
        "outputId": "c0d05a6e-de1b-460b-a083-7bf4524b02d9"
      },
      "execution_count": 85,
      "outputs": [
        {
          "output_type": "execute_result",
          "data": {
            "text/plain": [
              "{1e-06: 0.8036777649295737,\n",
              " 1e-05: 0.8036777649295737,\n",
              " 0.0001: 0.8036777649295737,\n",
              " 0.001: 0.8036777649295737,\n",
              " 0.01: 0.9321304332801963,\n",
              " 0.1: 0.9693549915201205,\n",
              " 1: 0.9744979765066649,\n",
              " 10.0: 0.9691876998944517}"
            ]
          },
          "metadata": {},
          "execution_count": 85
        }
      ]
    },
    {
      "cell_type": "code",
      "source": [
        "plt.plot(list(f1.keys()),list(f1.values()),'-')\n",
        "plt.xlabel('Hyperparameter C')\n",
        "plt.ylabel('f1 score (weighted avg)')\n",
        "plt.xscale('log')\n",
        "\n",
        "plt.axvline(c)"
      ],
      "metadata": {
        "colab": {
          "base_uri": "https://localhost:8080/",
          "height": 302
        },
        "id": "y9Az9HojxHaF",
        "outputId": "0d4f86a4-1be9-41fa-86bc-eadbefecc3fa"
      },
      "execution_count": 94,
      "outputs": [
        {
          "output_type": "execute_result",
          "data": {
            "text/plain": [
              "<matplotlib.lines.Line2D at 0x7f195fd42e50>"
            ]
          },
          "metadata": {},
          "execution_count": 94
        },
        {
          "output_type": "display_data",
          "data": {
            "text/plain": [
              "<Figure size 432x288 with 1 Axes>"
            ],
            "image/png": "[encoded data removed]"
          },
          "metadata": {
            "needs_background": "light"
          }
        }
      ]
    },
    {
      "cell_type": "code",
      "source": [
        "classifier = SVC(kernel='linear',C = c)\n",
        "vocabulary = Bag_of_words_fit(X_train.values)\n",
        "X_train_features = bag_of_words_transform(X_train.values,vocabulary)\n",
        "X_test_features = bag_of_words_transform(X_test.values,vocabulary)\n",
        "classifier.fit(X_train_features,y_train)\n",
        "y_pred = classifier.predict(X_test_features)"
      ],
      "metadata": {
        "id": "QAjXXXaJ_vpv"
      },
      "execution_count": 88,
      "outputs": []
    },
    {
      "cell_type": "code",
      "source": [
        "f1_score(y_test, y_pred, average='weighted')\n",
        "print(classification_report(y_test,y_pred))\n",
        "tn, fp, fn, tp = confusion_matrix(y_test.values, y_pred).ravel()\n",
        "confusion_matrix(y_test, y_pred)"
      ],
      "metadata": {
        "colab": {
          "base_uri": "https://localhost:8080/"
        },
        "id": "hAaJu1gGu7bM",
        "outputId": "6fc12d35-c6ab-4a4c-b855-b8b85563f20b"
      },
      "execution_count": 93,
      "outputs": [
        {
          "output_type": "stream",
          "name": "stdout",
          "text": [
            "              precision    recall  f1-score   support\n",
            "\n",
            "         ham       0.97      0.99      0.98      1583\n",
            "        spam       0.95      0.82      0.88       256\n",
            "\n",
            "    accuracy                           0.97      1839\n",
            "   macro avg       0.96      0.90      0.93      1839\n",
            "weighted avg       0.97      0.97      0.97      1839\n",
            "\n"
          ]
        },
        {
          "output_type": "execute_result",
          "data": {
            "text/plain": [
              "array([[1571,   12],\n",
              "       [  47,  209]])"
            ]
          },
          "metadata": {},
          "execution_count": 93
        }
      ]
    },
    {
      "cell_type": "code",
      "source": [
        "plot_confusion_matrix(classifier, X_test_features, y_test)"
      ],
      "metadata": {
        "colab": {
          "base_uri": "https://localhost:8080/",
          "height": 355
        },
        "id": "5WZIIsJ5hWm0",
        "outputId": "469c9aa6-303e-4c68-e1f5-01864242d4ad"
      },
      "execution_count": 21,
      "outputs": [
        {
          "output_type": "stream",
          "name": "stderr",
          "text": [
            "/usr/local/lib/python3.7/dist-packages/sklearn/utils/deprecation.py:87: FutureWarning: Function plot_confusion_matrix is deprecated; Function `plot_confusion_matrix` is deprecated in 1.0 and will be removed in 1.2. Use one of the class methods: ConfusionMatrixDisplay.from_predictions or ConfusionMatrixDisplay.from_estimator.\n",
            "  warnings.warn(msg, category=FutureWarning)\n"
          ]
        },
        {
          "output_type": "execute_result",
          "data": {
            "text/plain": [
              "<sklearn.metrics._plot.confusion_matrix.ConfusionMatrixDisplay at 0x7ff71fbb8850>"
            ]
          },
          "metadata": {},
          "execution_count": 21
        },
        {
          "output_type": "display_data",
          "data": {
            "text/plain": [
              "<Figure size 432x288 with 2 Axes>"
            ],
            "image/png": "[encoded data removed]"
          },
          "metadata": {
            "needs_background": "light"
          }
        }
      ]
    },
    {
      "cell_type": "code",
      "source": [
        "print('False positives = ',fp)"
      ],
      "metadata": {
        "colab": {
          "base_uri": "https://localhost:8080/"
        },
        "id": "A4MO3K8zvKDA",
        "outputId": "ceb1faa9-adab-4911-b485-8f28f2950c04"
      },
      "execution_count": 95,
      "outputs": [
        {
          "output_type": "stream",
          "name": "stdout",
          "text": [
            "False positives =  12\n"
          ]
        }
      ]
    },
    {
      "cell_type": "markdown",
      "source": [
        "Very less false positives are predicted by the model which is more acceptable for a spam classifier"
      ],
      "metadata": {
        "id": "dohJINs2x8Hy"
      }
    },
    {
      "cell_type": "markdown",
      "source": [
        "## Model Classifier\n",
        "\n",
        "\n"
      ],
      "metadata": {
        "id": "Al_810vx5XKk"
      }
    },
    {
      "cell_type": "code",
      "source": [
        "vocabulary \n",
        "#to transform the test data"
      ],
      "metadata": {
        "id": "XjTfUj-Z6YXG"
      },
      "execution_count": null,
      "outputs": []
    },
    {
      "cell_type": "code",
      "source": [
        "classifier"
      ],
      "metadata": {
        "colab": {
          "base_uri": "https://localhost:8080/"
        },
        "id": "65JI6cHf5Wys",
        "outputId": "8081d986-4da6-4b9f-a96a-4988d02970f0"
      },
      "execution_count": 38,
      "outputs": [
        {
          "output_type": "execute_result",
          "data": {
            "text/plain": [
              "SVC(C=1, kernel='linear')"
            ]
          },
          "metadata": {},
          "execution_count": 38
        }
      ]
    },
    {
      "cell_type": "markdown",
      "source": [
        "## Testing on sample datasets given in test folder"
      ],
      "metadata": {
        "id": "jeX8CplyQHxH"
      }
    },
    {
      "cell_type": "code",
      "source": [
        "text_spam = \"Dear Beneficiary, The United Nations Compensation Commission (UNCC) has approved to pay you a compensation amount of US$1,500,000 (One Million, Five Hundred Thousand United State Dollars) due to losses and damages suffered as to delayed foreign contract payment of individuals, firms, contractors, inheritance, next-of-kin, super hurricane Sandy and lottery beneficiaries that originated from Africa, Europe, Americas, Asia including the Middle East. Your approved Compensation package has been deposited in the Security Vault of SunWay Finance & Security company USA waiting for delivery. For identification and swift delivery of your compensation package, you are advice to contact Diplomat Ellis Gammon of SunWay Finance & Security company and re-confirm your delivery details: call Tel: +1 321 586 1802, E-mail: ellisgammon8@gmail.com 1. Full Name: 2. Delivery Address: 3. Direct Phone Number: 4. Nearest Airport: 5. Age/Occupation: Congratulations on your payment approval Yours faithfully, Mrs. Jennifer Mcnichols. UNCC Compensation Coordinator.\"\n",
        "\n"
      ],
      "metadata": {
        "id": "yrzE64cvMoPB"
      },
      "execution_count": 39,
      "outputs": []
    },
    {
      "cell_type": "code",
      "source": [
        "text_ham ='Dear Sir, PRML quiz was the first exam we have taken among all the other courses here at IIT Madras. We were not really sure about what kind of questions to expect either. I have received a lot of requests from my classmates to request you to increase the number of quizzes to 6 and make it best 4 out of 6. I have raised this issue in the CR meeting and they have told me to ask you. We would be really grateful if you could consider it. Thanks and regards'"
      ],
      "metadata": {
        "id": "4gXIUGj3MuU4"
      },
      "execution_count": 40,
      "outputs": []
    },
    {
      "cell_type": "code",
      "source": [
        "email = {'Message':[text_spam,text_ham],'Category':['spam','ham']}\n"
      ],
      "metadata": {
        "id": "pTgv56neXzLH"
      },
      "execution_count": 41,
      "outputs": []
    },
    {
      "cell_type": "code",
      "source": [
        "data_test_2 = pd.DataFrame(email)"
      ],
      "metadata": {
        "id": "p0rGA5T7Rb4M"
      },
      "execution_count": 42,
      "outputs": []
    },
    {
      "cell_type": "code",
      "source": [
        "X_test_2 = data_test_2['Message']\n",
        "y_test_2 = data_test_2['Category']"
      ],
      "metadata": {
        "id": "xIWb9zzzYLyL"
      },
      "execution_count": 43,
      "outputs": []
    },
    {
      "cell_type": "code",
      "source": [
        "X_test_2 = bag_of_words_transform(X_test_2.values,vocabulary)"
      ],
      "metadata": {
        "id": "6nIk5X4doWdP"
      },
      "execution_count": 44,
      "outputs": []
    },
    {
      "cell_type": "code",
      "source": [
        "X_test_2"
      ],
      "metadata": {
        "colab": {
          "base_uri": "https://localhost:8080/",
          "height": 205
        },
        "id": "3b6XIDaQVgn7",
        "outputId": "95587167-3f5f-46c8-c7a6-200015775700"
      },
      "execution_count": 45,
      "outputs": [
        {
          "output_type": "execute_result",
          "data": {
            "text/plain": [
              "   able  anything  yesterday  going  home  work  take  care  print  reach  \\\n",
              "0   0.0       0.0        0.0    0.0   0.0   0.0   0.0   0.0    0.0    0.0   \n",
              "1   0.0       0.0        0.0    0.0   0.0   0.0   0.0   0.0    0.0    0.0   \n",
              "\n",
              "   ...  ree  grandfather  eta  unemployed  unconsciously  unhappy  process  \\\n",
              "0  ...  0.0          0.0  0.0         0.0            0.0      0.0      0.0   \n",
              "1  ...  0.0          0.0  0.0         0.0            0.0      0.0      0.0   \n",
              "\n",
              "   ratio_unique_words  ratio_stop_words  ratio_non_dict_words  \n",
              "0            0.740741      3.364058e-41              0.000055  \n",
              "1            0.752809      1.262467e-04              0.000001  \n",
              "\n",
              "[2 rows x 3022 columns]"
            ],
            "text/html": [
              "\n",
              "  <div id=\"df-8059d8b8-f250-425c-941d-eaa3d65fd847\">\n",
              "    <div class=\"colab-df-container\">\n",
              "      <div>\n",
              "<style scoped>\n",
              "    .dataframe tbody tr th:only-of-type {\n",
              "        vertical-align: middle;\n",
              "    }\n",
              "\n",
              "    .dataframe tbody tr th {\n",
              "        vertical-align: top;\n",
              "    }\n",
              "\n",
              "    .dataframe thead th {\n",
              "        text-align: right;\n",
              "    }\n",
              "</style>\n",
              "<table border=\"1\" class=\"dataframe\">\n",
              "  <thead>\n",
              "    <tr style=\"text-align: right;\">\n",
              "      <th></th>\n",
              "      <th>able</th>\n",
              "      <th>anything</th>\n",
              "      <th>yesterday</th>\n",
              "      <th>going</th>\n",
              "      <th>home</th>\n",
              "      <th>work</th>\n",
              "      <th>take</th>\n",
              "      <th>care</th>\n",
              "      <th>print</th>\n",
              "      <th>reach</th>\n",
              "      <th>...</th>\n",
              "      <th>ree</th>\n",
              "      <th>grandfather</th>\n",
              "      <th>eta</th>\n",
              "      <th>unemployed</th>\n",
              "      <th>unconsciously</th>\n",
              "      <th>unhappy</th>\n",
              "      <th>process</th>\n",
              "      <th>ratio_unique_words</th>\n",
              "      <th>ratio_stop_words</th>\n",
              "      <th>ratio_non_dict_words</th>\n",
              "    </tr>\n",
              "  </thead>\n",
              "  <tbody>\n",
              "    <tr>\n",
              "      <th>0</th>\n",
              "      <td>0.0</td>\n",
              "      <td>0.0</td>\n",
              "      <td>0.0</td>\n",
              "      <td>0.0</td>\n",
              "      <td>0.0</td>\n",
              "      <td>0.0</td>\n",
              "      <td>0.0</td>\n",
              "      <td>0.0</td>\n",
              "      <td>0.0</td>\n",
              "      <td>0.0</td>\n",
              "      <td>...</td>\n",
              "      <td>0.0</td>\n",
              "      <td>0.0</td>\n",
              "      <td>0.0</td>\n",
              "      <td>0.0</td>\n",
              "      <td>0.0</td>\n",
              "      <td>0.0</td>\n",
              "      <td>0.0</td>\n",
              "      <td>0.740741</td>\n",
              "      <td>3.364058e-41</td>\n",
              "      <td>0.000055</td>\n",
              "    </tr>\n",
              "    <tr>\n",
              "      <th>1</th>\n",
              "      <td>0.0</td>\n",
              "      <td>0.0</td>\n",
              "      <td>0.0</td>\n",
              "      <td>0.0</td>\n",
              "      <td>0.0</td>\n",
              "      <td>0.0</td>\n",
              "      <td>0.0</td>\n",
              "      <td>0.0</td>\n",
              "      <td>0.0</td>\n",
              "      <td>0.0</td>\n",
              "      <td>...</td>\n",
              "      <td>0.0</td>\n",
              "      <td>0.0</td>\n",
              "      <td>0.0</td>\n",
              "      <td>0.0</td>\n",
              "      <td>0.0</td>\n",
              "      <td>0.0</td>\n",
              "      <td>0.0</td>\n",
              "      <td>0.752809</td>\n",
              "      <td>1.262467e-04</td>\n",
              "      <td>0.000001</td>\n",
              "    </tr>\n",
              "  </tbody>\n",
              "</table>\n",
              "<p>2 rows × 3022 columns</p>\n",
              "</div>\n",
              "      <button class=\"colab-df-convert\" onclick=\"convertToInteractive('df-8059d8b8-f250-425c-941d-eaa3d65fd847')\"\n",
              "              title=\"Convert this dataframe to an interactive table.\"\n",
              "              style=\"display:none;\">\n",
              "        \n",
              "  <svg xmlns=\"http://www.w3.org/2000/svg\" height=\"24px\"viewBox=\"0 0 24 24\"\n",
              "       width=\"24px\">\n",
              "    <path d=\"M0 0h24v24H0V0z\" fill=\"none\"/>\n",
              "    <path d=\"M18.56 5.44l.94 2.06.94-2.06 2.06-.94-2.06-.94-.94-2.06-.94 2.06-2.06.94zm-11 1L8.5 8.5l.94-2.06 2.06-.94-2.06-.94L8.5 2.5l-.94 2.06-2.06.94zm10 10l.94 2.06.94-2.06 2.06-.94-2.06-.94-.94-2.06-.94 2.06-2.06.94z\"/><path d=\"M17.41 7.96l-1.37-1.37c-.4-.4-.92-.59-1.43-.59-.52 0-1.04.2-1.43.59L10.3 9.45l-7.72 7.72c-.78.78-.78 2.05 0 2.83L4 21.41c.39.39.9.59 1.41.59.51 0 1.02-.2 1.41-.59l7.78-7.78 2.81-2.81c.8-.78.8-2.07 0-2.86zM5.41 20L4 18.59l7.72-7.72 1.47 1.35L5.41 20z\"/>\n",
              "  </svg>\n",
              "      </button>\n",
              "      \n",
              "  <style>\n",
              "    .colab-df-container {\n",
              "      display:flex;\n",
              "      flex-wrap:wrap;\n",
              "      gap: 12px;\n",
              "    }\n",
              "\n",
              "    .colab-df-convert {\n",
              "      background-color: #E8F0FE;\n",
              "      border: none;\n",
              "      border-radius: 50%;\n",
              "      cursor: pointer;\n",
              "      display: none;\n",
              "      fill: #1967D2;\n",
              "      height: 32px;\n",
              "      padding: 0 0 0 0;\n",
              "      width: 32px;\n",
              "    }\n",
              "\n",
              "    .colab-df-convert:hover {\n",
              "      background-color: #E2EBFA;\n",
              "      box-shadow: 0px 1px 2px rgba(60, 64, 67, 0.3), 0px 1px 3px 1px rgba(60, 64, 67, 0.15);\n",
              "      fill: #174EA6;\n",
              "    }\n",
              "\n",
              "    [theme=dark] .colab-df-convert {\n",
              "      background-color: #3B4455;\n",
              "      fill: #D2E3FC;\n",
              "    }\n",
              "\n",
              "    [theme=dark] .colab-df-convert:hover {\n",
              "      background-color: #434B5C;\n",
              "      box-shadow: 0px 1px 3px 1px rgba(0, 0, 0, 0.15);\n",
              "      filter: drop-shadow(0px 1px 2px rgba(0, 0, 0, 0.3));\n",
              "      fill: #FFFFFF;\n",
              "    }\n",
              "  </style>\n",
              "\n",
              "      <script>\n",
              "        const buttonEl =\n",
              "          document.querySelector('#df-8059d8b8-f250-425c-941d-eaa3d65fd847 button.colab-df-convert');\n",
              "        buttonEl.style.display =\n",
              "          google.colab.kernel.accessAllowed ? 'block' : 'none';\n",
              "\n",
              "        async function convertToInteractive(key) {\n",
              "          const element = document.querySelector('#df-8059d8b8-f250-425c-941d-eaa3d65fd847');\n",
              "          const dataTable =\n",
              "            await google.colab.kernel.invokeFunction('convertToInteractive',\n",
              "                                                     [key], {});\n",
              "          if (!dataTable) return;\n",
              "\n",
              "          const docLinkHtml = 'Like what you see? Visit the ' +\n",
              "            '<a target=\"_blank\" href=https://colab.research.google.com/notebooks/data_table.ipynb>data table notebook</a>'\n",
              "            + ' to learn more about interactive tables.';\n",
              "          element.innerHTML = '';\n",
              "          dataTable['output_type'] = 'display_data';\n",
              "          await google.colab.output.renderOutput(dataTable, element);\n",
              "          const docLink = document.createElement('div');\n",
              "          docLink.innerHTML = docLinkHtml;\n",
              "          element.appendChild(docLink);\n",
              "        }\n",
              "      </script>\n",
              "    </div>\n",
              "  </div>\n",
              "  "
            ]
          },
          "metadata": {},
          "execution_count": 45
        }
      ]
    },
    {
      "cell_type": "code",
      "source": [
        "classifier.predict(X_test_2)"
      ],
      "metadata": {
        "colab": {
          "base_uri": "https://localhost:8080/"
        },
        "id": "CNi9XlQo6Huo",
        "outputId": "a3fe3025-d5a8-400f-a12c-2c9a3dc6fd06"
      },
      "execution_count": 46,
      "outputs": [
        {
          "output_type": "execute_result",
          "data": {
            "text/plain": [
              "array(['spam', 'ham'], dtype=object)"
            ]
          },
          "metadata": {},
          "execution_count": 46
        }
      ]
    },
    {
      "cell_type": "markdown",
      "source": [
        "It correctly classifies the 1st mail as spam and 2nd as ham\n",
        "\n",
        "---\n",
        "\n"
      ],
      "metadata": {
        "id": "hXG0QOtPVQCe"
      }
    },
    {
      "cell_type": "markdown",
      "source": [
        "# Extra Analysis for Features "
      ],
      "metadata": {
        "id": "-tSPwK8gvjI5"
      }
    },
    {
      "cell_type": "code",
      "source": [
        "X_train_features.head()"
      ],
      "metadata": {
        "colab": {
          "base_uri": "https://localhost:8080/",
          "height": 299
        },
        "id": "9TjD2Z6LvmCL",
        "outputId": "e307b13f-ac04-4c78-cd2a-210666d2c1cd"
      },
      "execution_count": 23,
      "outputs": [
        {
          "output_type": "execute_result",
          "data": {
            "text/plain": [
              "   able  anything  yesterday  going  home  work  take  care  print  reach  \\\n",
              "0   1.0       1.0        0.0    0.0   0.0   0.0   0.0   0.0    0.0    0.0   \n",
              "1   0.0       0.0        1.0    1.0   1.0   0.0   0.0   0.0    0.0    0.0   \n",
              "2   0.0       0.0        0.0    0.0   0.0   1.0   0.0   0.0    0.0    0.0   \n",
              "3   0.0       0.0        0.0    0.0   0.0   0.0   1.0   1.0    0.0    0.0   \n",
              "4   0.0       0.0        0.0    0.0   0.0   0.0   0.0   0.0    0.0    0.0   \n",
              "\n",
              "   ...  ree  grandfather  eta  unemployed  unconsciously  unhappy  process  \\\n",
              "0  ...  0.0          0.0  0.0         0.0            0.0      0.0      0.0   \n",
              "1  ...  0.0          0.0  0.0         0.0            0.0      0.0      0.0   \n",
              "2  ...  0.0          0.0  0.0         0.0            0.0      0.0      0.0   \n",
              "3  ...  0.0          0.0  0.0         0.0            0.0      0.0      0.0   \n",
              "4  ...  0.0          0.0  0.0         0.0            0.0      0.0      0.0   \n",
              "\n",
              "   ratio_unique_words  ratio_stop_words  ratio_non_dict_words  \n",
              "0                 1.0          0.209600              0.000000  \n",
              "1                 1.0          0.112485              0.000000  \n",
              "2                 1.0          0.167460              0.004758  \n",
              "3                 1.0          0.040000              0.009600  \n",
              "4                 1.0          0.000000              1.000000  \n",
              "\n",
              "[5 rows x 3022 columns]"
            ],
            "text/html": [
              "\n",
              "  <div id=\"df-e342641f-37a2-42a0-96f6-e998997ae393\">\n",
              "    <div class=\"colab-df-container\">\n",
              "      <div>\n",
              "<style scoped>\n",
              "    .dataframe tbody tr th:only-of-type {\n",
              "        vertical-align: middle;\n",
              "    }\n",
              "\n",
              "    .dataframe tbody tr th {\n",
              "        vertical-align: top;\n",
              "    }\n",
              "\n",
              "    .dataframe thead th {\n",
              "        text-align: right;\n",
              "    }\n",
              "</style>\n",
              "<table border=\"1\" class=\"dataframe\">\n",
              "  <thead>\n",
              "    <tr style=\"text-align: right;\">\n",
              "      <th></th>\n",
              "      <th>able</th>\n",
              "      <th>anything</th>\n",
              "      <th>yesterday</th>\n",
              "      <th>going</th>\n",
              "      <th>home</th>\n",
              "      <th>work</th>\n",
              "      <th>take</th>\n",
              "      <th>care</th>\n",
              "      <th>print</th>\n",
              "      <th>reach</th>\n",
              "      <th>...</th>\n",
              "      <th>ree</th>\n",
              "      <th>grandfather</th>\n",
              "      <th>eta</th>\n",
              "      <th>unemployed</th>\n",
              "      <th>unconsciously</th>\n",
              "      <th>unhappy</th>\n",
              "      <th>process</th>\n",
              "      <th>ratio_unique_words</th>\n",
              "      <th>ratio_stop_words</th>\n",
              "      <th>ratio_non_dict_words</th>\n",
              "    </tr>\n",
              "  </thead>\n",
              "  <tbody>\n",
              "    <tr>\n",
              "      <th>0</th>\n",
              "      <td>1.0</td>\n",
              "      <td>1.0</td>\n",
              "      <td>0.0</td>\n",
              "      <td>0.0</td>\n",
              "      <td>0.0</td>\n",
              "      <td>0.0</td>\n",
              "      <td>0.0</td>\n",
              "      <td>0.0</td>\n",
              "      <td>0.0</td>\n",
              "      <td>0.0</td>\n",
              "      <td>...</td>\n",
              "      <td>0.0</td>\n",
              "      <td>0.0</td>\n",
              "      <td>0.0</td>\n",
              "      <td>0.0</td>\n",
              "      <td>0.0</td>\n",
              "      <td>0.0</td>\n",
              "      <td>0.0</td>\n",
              "      <td>1.0</td>\n",
              "      <td>0.209600</td>\n",
              "      <td>0.000000</td>\n",
              "    </tr>\n",
              "    <tr>\n",
              "      <th>1</th>\n",
              "      <td>0.0</td>\n",
              "      <td>0.0</td>\n",
              "      <td>1.0</td>\n",
              "      <td>1.0</td>\n",
              "      <td>1.0</td>\n",
              "      <td>0.0</td>\n",
              "      <td>0.0</td>\n",
              "      <td>0.0</td>\n",
              "      <td>0.0</td>\n",
              "      <td>0.0</td>\n",
              "      <td>...</td>\n",
              "      <td>0.0</td>\n",
              "      <td>0.0</td>\n",
              "      <td>0.0</td>\n",
              "      <td>0.0</td>\n",
              "      <td>0.0</td>\n",
              "      <td>0.0</td>\n",
              "      <td>0.0</td>\n",
              "      <td>1.0</td>\n",
              "      <td>0.112485</td>\n",
              "      <td>0.000000</td>\n",
              "    </tr>\n",
              "    <tr>\n",
              "      <th>2</th>\n",
              "      <td>0.0</td>\n",
              "      <td>0.0</td>\n",
              "      <td>0.0</td>\n",
              "      <td>0.0</td>\n",
              "      <td>0.0</td>\n",
              "      <td>1.0</td>\n",
              "      <td>0.0</td>\n",
              "      <td>0.0</td>\n",
              "      <td>0.0</td>\n",
              "      <td>0.0</td>\n",
              "      <td>...</td>\n",
              "      <td>0.0</td>\n",
              "      <td>0.0</td>\n",
              "      <td>0.0</td>\n",
              "      <td>0.0</td>\n",
              "      <td>0.0</td>\n",
              "      <td>0.0</td>\n",
              "      <td>0.0</td>\n",
              "      <td>1.0</td>\n",
              "      <td>0.167460</td>\n",
              "      <td>0.004758</td>\n",
              "    </tr>\n",
              "    <tr>\n",
              "      <th>3</th>\n",
              "      <td>0.0</td>\n",
              "      <td>0.0</td>\n",
              "      <td>0.0</td>\n",
              "      <td>0.0</td>\n",
              "      <td>0.0</td>\n",
              "      <td>0.0</td>\n",
              "      <td>1.0</td>\n",
              "      <td>1.0</td>\n",
              "      <td>0.0</td>\n",
              "      <td>0.0</td>\n",
              "      <td>...</td>\n",
              "      <td>0.0</td>\n",
              "      <td>0.0</td>\n",
              "      <td>0.0</td>\n",
              "      <td>0.0</td>\n",
              "      <td>0.0</td>\n",
              "      <td>0.0</td>\n",
              "      <td>0.0</td>\n",
              "      <td>1.0</td>\n",
              "      <td>0.040000</td>\n",
              "      <td>0.009600</td>\n",
              "    </tr>\n",
              "    <tr>\n",
              "      <th>4</th>\n",
              "      <td>0.0</td>\n",
              "      <td>0.0</td>\n",
              "      <td>0.0</td>\n",
              "      <td>0.0</td>\n",
              "      <td>0.0</td>\n",
              "      <td>0.0</td>\n",
              "      <td>0.0</td>\n",
              "      <td>0.0</td>\n",
              "      <td>0.0</td>\n",
              "      <td>0.0</td>\n",
              "      <td>...</td>\n",
              "      <td>0.0</td>\n",
              "      <td>0.0</td>\n",
              "      <td>0.0</td>\n",
              "      <td>0.0</td>\n",
              "      <td>0.0</td>\n",
              "      <td>0.0</td>\n",
              "      <td>0.0</td>\n",
              "      <td>1.0</td>\n",
              "      <td>0.000000</td>\n",
              "      <td>1.000000</td>\n",
              "    </tr>\n",
              "  </tbody>\n",
              "</table>\n",
              "<p>5 rows × 3022 columns</p>\n",
              "</div>\n",
              "      <button class=\"colab-df-convert\" onclick=\"convertToInteractive('df-e342641f-37a2-42a0-96f6-e998997ae393')\"\n",
              "              title=\"Convert this dataframe to an interactive table.\"\n",
              "              style=\"display:none;\">\n",
              "        \n",
              "  <svg xmlns=\"http://www.w3.org/2000/svg\" height=\"24px\"viewBox=\"0 0 24 24\"\n",
              "       width=\"24px\">\n",
              "    <path d=\"M0 0h24v24H0V0z\" fill=\"none\"/>\n",
              "    <path d=\"M18.56 5.44l.94 2.06.94-2.06 2.06-.94-2.06-.94-.94-2.06-.94 2.06-2.06.94zm-11 1L8.5 8.5l.94-2.06 2.06-.94-2.06-.94L8.5 2.5l-.94 2.06-2.06.94zm10 10l.94 2.06.94-2.06 2.06-.94-2.06-.94-.94-2.06-.94 2.06-2.06.94z\"/><path d=\"M17.41 7.96l-1.37-1.37c-.4-.4-.92-.59-1.43-.59-.52 0-1.04.2-1.43.59L10.3 9.45l-7.72 7.72c-.78.78-.78 2.05 0 2.83L4 21.41c.39.39.9.59 1.41.59.51 0 1.02-.2 1.41-.59l7.78-7.78 2.81-2.81c.8-.78.8-2.07 0-2.86zM5.41 20L4 18.59l7.72-7.72 1.47 1.35L5.41 20z\"/>\n",
              "  </svg>\n",
              "      </button>\n",
              "      \n",
              "  <style>\n",
              "    .colab-df-container {\n",
              "      display:flex;\n",
              "      flex-wrap:wrap;\n",
              "      gap: 12px;\n",
              "    }\n",
              "\n",
              "    .colab-df-convert {\n",
              "      background-color: #E8F0FE;\n",
              "      border: none;\n",
              "      border-radius: 50%;\n",
              "      cursor: pointer;\n",
              "      display: none;\n",
              "      fill: #1967D2;\n",
              "      height: 32px;\n",
              "      padding: 0 0 0 0;\n",
              "      width: 32px;\n",
              "    }\n",
              "\n",
              "    .colab-df-convert:hover {\n",
              "      background-color: #E2EBFA;\n",
              "      box-shadow: 0px 1px 2px rgba(60, 64, 67, 0.3), 0px 1px 3px 1px rgba(60, 64, 67, 0.15);\n",
              "      fill: #174EA6;\n",
              "    }\n",
              "\n",
              "    [theme=dark] .colab-df-convert {\n",
              "      background-color: #3B4455;\n",
              "      fill: #D2E3FC;\n",
              "    }\n",
              "\n",
              "    [theme=dark] .colab-df-convert:hover {\n",
              "      background-color: #434B5C;\n",
              "      box-shadow: 0px 1px 3px 1px rgba(0, 0, 0, 0.15);\n",
              "      filter: drop-shadow(0px 1px 2px rgba(0, 0, 0, 0.3));\n",
              "      fill: #FFFFFF;\n",
              "    }\n",
              "  </style>\n",
              "\n",
              "      <script>\n",
              "        const buttonEl =\n",
              "          document.querySelector('#df-e342641f-37a2-42a0-96f6-e998997ae393 button.colab-df-convert');\n",
              "        buttonEl.style.display =\n",
              "          google.colab.kernel.accessAllowed ? 'block' : 'none';\n",
              "\n",
              "        async function convertToInteractive(key) {\n",
              "          const element = document.querySelector('#df-e342641f-37a2-42a0-96f6-e998997ae393');\n",
              "          const dataTable =\n",
              "            await google.colab.kernel.invokeFunction('convertToInteractive',\n",
              "                                                     [key], {});\n",
              "          if (!dataTable) return;\n",
              "\n",
              "          const docLinkHtml = 'Like what you see? Visit the ' +\n",
              "            '<a target=\"_blank\" href=https://colab.research.google.com/notebooks/data_table.ipynb>data table notebook</a>'\n",
              "            + ' to learn more about interactive tables.';\n",
              "          element.innerHTML = '';\n",
              "          dataTable['output_type'] = 'display_data';\n",
              "          await google.colab.output.renderOutput(dataTable, element);\n",
              "          const docLink = document.createElement('div');\n",
              "          docLink.innerHTML = docLinkHtml;\n",
              "          element.appendChild(docLink);\n",
              "        }\n",
              "      </script>\n",
              "    </div>\n",
              "  </div>\n",
              "  "
            ]
          },
          "metadata": {},
          "execution_count": 23
        }
      ]
    },
    {
      "cell_type": "code",
      "source": [
        "spam_ratio_unique_words = []\n",
        "ham_ratio_unique_words = []\n",
        "spam_ratio_stop_words = []\n",
        "ham_ratio_stop_words = []\n",
        "spam_ratio_non_dict_words = []\n",
        "ham_ratio_non_dict_words = []\n",
        "for i in range(len(X_train)):\n",
        "  if y_train.values[i]=='spam':\n",
        "    spam_ratio_unique_words.append(X_train_features['ratio_unique_words'][i])\n",
        "    spam_ratio_stop_words.append(X_train_features['ratio_stop_words'][i])\n",
        "    spam_ratio_non_dict_words.append(X_train_features['ratio_non_dict_words'][i])\n",
        "  if y_train.values[i]=='ham':\n",
        "    ham_ratio_unique_words.append(X_train_features['ratio_unique_words'][i])\n",
        "    ham_ratio_stop_words.append(X_train_features['ratio_stop_words'][i])\n",
        "    ham_ratio_non_dict_words.append(X_train_features['ratio_non_dict_words'][i])\n"
      ],
      "metadata": {
        "id": "La2zIEyGygaR"
      },
      "execution_count": 24,
      "outputs": []
    },
    {
      "cell_type": "code",
      "source": [
        "sns.scatterplot(data=spam_ratio_unique_words,color='red')\n",
        "#sns.kdeplot(data=ham_ratio_unique_words,color='green')\n",
        "plt.ylabel('ratio of _unique_words')\n",
        "plt.xlabel('Spam Mails')\n",
        "\n",
        "plt.ylim(0,1)\n",
        "print('mean of ratio of unique words in spam email = ' , sum(spam_ratio_unique_words)/len(spam_ratio_unique_words))"
      ],
      "metadata": {
        "colab": {
          "base_uri": "https://localhost:8080/",
          "height": 302
        },
        "id": "p5b1eEymz0p-",
        "outputId": "55a60986-b5a6-4e44-894b-3a7a55dea8b1"
      },
      "execution_count": 31,
      "outputs": [
        {
          "output_type": "stream",
          "name": "stdout",
          "text": [
            "mean of ratio of unique words in spam email =  0.9305263429652948\n"
          ]
        },
        {
          "output_type": "display_data",
          "data": {
            "text/plain": [
              "<Figure size 432x288 with 1 Axes>"
            ],
            "image/png": "[encoded data removed]"
          },
          "metadata": {
            "needs_background": "light"
          }
        }
      ]
    },
    {
      "cell_type": "code",
      "source": [
        "sns.scatterplot(data=ham_ratio_unique_words,color='green')\n",
        "plt.ylabel('ratio of _unique_words')\n",
        "plt.xlabel('Ham Mails')\n",
        "\n",
        "plt.ylim(0,1)\n",
        "print('mean of ratio of unique words in ham email = ' , sum(ham_ratio_unique_words)/len(ham_ratio_unique_words))"
      ],
      "metadata": {
        "colab": {
          "base_uri": "https://localhost:8080/",
          "height": 302
        },
        "id": "UFHGURuy1ZwI",
        "outputId": "dfeb51bb-617f-4206-a375-9d48f95c592d"
      },
      "execution_count": 32,
      "outputs": [
        {
          "output_type": "stream",
          "name": "stdout",
          "text": [
            "mean of ratio of unique words in ham email =  0.9492645874201654\n"
          ]
        },
        {
          "output_type": "display_data",
          "data": {
            "text/plain": [
              "<Figure size 432x288 with 1 Axes>"
            ],
            "image/png": "[encoded data removed]"
          },
          "metadata": {
            "needs_background": "light"
          }
        }
      ]
    },
    {
      "cell_type": "code",
      "source": [
        "sns.scatterplot(data=spam_ratio_stop_words,color='red',alpha=0.5)\n",
        "plt.ylabel('ratio of stop words')\n",
        "plt.xlabel('Spam Mails')\n",
        "plt.ylim(0,1)\n",
        "print('mean of ratio of stop words in spam email = ' , sum(spam_ratio_stop_words)/len(spam_ratio_stop_words))\n",
        "#plt.xlim(0.6,1.0)"
      ],
      "metadata": {
        "colab": {
          "base_uri": "https://localhost:8080/",
          "height": 302
        },
        "id": "qXLfskrrz9vt",
        "outputId": "86ff3422-bc73-48a9-8a72-72eb7e39566d"
      },
      "execution_count": 33,
      "outputs": [
        {
          "output_type": "stream",
          "name": "stdout",
          "text": [
            "mean of ratio of stop words in spam email =  0.016147029605341704\n"
          ]
        },
        {
          "output_type": "display_data",
          "data": {
            "text/plain": [
              "<Figure size 432x288 with 1 Axes>"
            ],
            "image/png": "[encoded data removed]"
          },
          "metadata": {
            "needs_background": "light"
          }
        }
      ]
    },
    {
      "cell_type": "code",
      "source": [
        "sns.scatterplot(data=ham_ratio_stop_words,color='green',alpha=0.5)\n",
        "plt.ylim(0,1)\n",
        "plt.ylabel('ratio of stop words')\n",
        "plt.xlabel('Ham Mails')\n",
        "print('mean of ratio of stop words in ham email = ' , sum(ham_ratio_stop_words)/len(ham_ratio_stop_words))"
      ],
      "metadata": {
        "colab": {
          "base_uri": "https://localhost:8080/",
          "height": 302
        },
        "id": "ajMBi6VU1KCL",
        "outputId": "39bcd3ed-3c02-4f12-8cd0-bc69eb60b47d"
      },
      "execution_count": 35,
      "outputs": [
        {
          "output_type": "stream",
          "name": "stdout",
          "text": [
            "mean of ratio of stop words in ham email =  0.04604992657154569\n"
          ]
        },
        {
          "output_type": "display_data",
          "data": {
            "text/plain": [
              "<Figure size 432x288 with 1 Axes>"
            ],
            "image/png": "[encoded data removed]"
          },
          "metadata": {
            "needs_background": "light"
          }
        }
      ]
    },
    {
      "cell_type": "code",
      "source": [
        "sns.scatterplot(data=spam_ratio_non_dict_words,color='red',alpha=0.5)\n",
        "plt.ylim(0,1)\n",
        "plt.ylabel('ratio of _non_dict_words')\n",
        "plt.xlabel('Spam Mails')\n",
        "print('mean of ratio of non-dict words in spam email = ' , sum(spam_ratio_non_dict_words)/len(spam_ratio_non_dict_words))\n",
        "\n",
        "#plt.xlim(0.6,1.0)"
      ],
      "metadata": {
        "colab": {
          "base_uri": "https://localhost:8080/",
          "height": 302
        },
        "id": "H6mm2JWP0aN8",
        "outputId": "51ab309f-fda6-4994-9fa2-9d004b8e5f25"
      },
      "execution_count": 36,
      "outputs": [
        {
          "output_type": "stream",
          "name": "stdout",
          "text": [
            "mean of ratio of non-dict words in spam email =  0.017134244527289812\n"
          ]
        },
        {
          "output_type": "display_data",
          "data": {
            "text/plain": [
              "<Figure size 432x288 with 1 Axes>"
            ],
            "image/png": "[encoded data removed]"
          },
          "metadata": {
            "needs_background": "light"
          }
        }
      ]
    },
    {
      "cell_type": "code",
      "source": [
        "sns.scatterplot(data=ham_ratio_non_dict_words,color='green',alpha=0.5)\n",
        "plt.ylim(0,1)\n",
        "plt.ylabel('ratio of _non_dict_words')\n",
        "plt.xlabel('Ham Mails')\n",
        "print('mean of ratio of non-dict words in ham email = ' , sum(ham_ratio_non_dict_words)/len(ham_ratio_non_dict_words))\n"
      ],
      "metadata": {
        "colab": {
          "base_uri": "https://localhost:8080/",
          "height": 302
        },
        "id": "DgHCqOqk0giz",
        "outputId": "bb53a61c-bd3c-477f-c5eb-9c1a4c2afda2"
      },
      "execution_count": 37,
      "outputs": [
        {
          "output_type": "stream",
          "name": "stdout",
          "text": [
            "mean of ratio of non-dict words in ham email =  0.037347207427926035\n"
          ]
        },
        {
          "output_type": "display_data",
          "data": {
            "text/plain": [
              "<Figure size 432x288 with 1 Axes>"
            ],
            "image/png": "[encoded data removed]"
          },
          "metadata": {
            "needs_background": "light"
          }
        }
      ]
    },
    {
      "cell_type": "markdown",
      "source": [
        "# Read the test datasets"
      ],
      "metadata": {
        "id": "XT6Lg3pO2ilN"
      }
    },
    {
      "cell_type": "markdown",
      "source": [
        "Run these two cells in the directory where test folder is there with txt files"
      ],
      "metadata": {
        "id": "pCPVLdtm3z1z"
      }
    },
    {
      "cell_type": "code",
      "source": [
        "pwd"
      ],
      "metadata": {
        "colab": {
          "base_uri": "https://localhost:8080/",
          "height": 36
        },
        "id": "i9PX_RJc9hYI",
        "outputId": "ec7a3965-0a37-4d64-f7a6-68be1bf95045"
      },
      "execution_count": 65,
      "outputs": [
        {
          "output_type": "execute_result",
          "data": {
            "text/plain": [
              "'/content'"
            ],
            "application/vnd.google.colaboratory.intrinsic+json": {
              "type": "string"
            }
          },
          "metadata": {},
          "execution_count": 65
        }
      ]
    },
    {
      "cell_type": "code",
      "source": [
        "cd test"
      ],
      "metadata": {
        "colab": {
          "base_uri": "https://localhost:8080/"
        },
        "id": "bGIPZqJ69eEZ",
        "outputId": "d564312b-15b5-4e79-8010-276ad585d3b5"
      },
      "execution_count": 70,
      "outputs": [
        {
          "output_type": "stream",
          "name": "stdout",
          "text": [
            "email1.txt  email2.txt\n"
          ]
        }
      ]
    },
    {
      "cell_type": "markdown",
      "source": [
        "The txt files given are in rtf files so we use strip rtf function to read the file"
      ],
      "metadata": {
        "id": "I7jeCShD_0ZL"
      }
    },
    {
      "cell_type": "code",
      "source": [
        "import glob\n",
        "from striprtf.striprtf import rtf_to_text\n",
        "mails={'Message':[]}\n",
        "for filename in glob.glob(\"*.txt\"):\n",
        "    with open(filename) as f:\n",
        "        try:\n",
        "            mails['Message'].append(rtf_to_text(f.read()))\n",
        "            print('read ',filename)\n",
        "        except:\n",
        "            continue"
      ],
      "metadata": {
        "colab": {
          "base_uri": "https://localhost:8080/"
        },
        "id": "NBJvL3lS16ah",
        "outputId": "db20eb02-69db-40a5-b983-41e5e21946f8"
      },
      "execution_count": 81,
      "outputs": [
        {
          "output_type": "stream",
          "name": "stdout",
          "text": [
            "read  email1.txt\n",
            "read  email2.txt\n"
          ]
        }
      ]
    },
    {
      "cell_type": "code",
      "source": [
        "test_mails = pd.DataFrame(mails)\n",
        "test_mails.head()"
      ],
      "metadata": {
        "colab": {
          "base_uri": "https://localhost:8080/",
          "height": 112
        },
        "id": "v0NjexoT6n0N",
        "outputId": "dc1c62d1-d39d-421d-bade-8d678efa5134"
      },
      "execution_count": 82,
      "outputs": [
        {
          "output_type": "execute_result",
          "data": {
            "text/plain": [
              "                                             Message\n",
              "0  Dear Sir,\\n\\nPRML quiz was the first exam we h...\n",
              "1  Dear Beneficiary,\\n\\nThe United Nations Compen..."
            ],
            "text/html": [
              "\n",
              "  <div id=\"df-3ddb5bfa-62d6-4694-b809-73f7a66a22ee\">\n",
              "    <div class=\"colab-df-container\">\n",
              "      <div>\n",
              "<style scoped>\n",
              "    .dataframe tbody tr th:only-of-type {\n",
              "        vertical-align: middle;\n",
              "    }\n",
              "\n",
              "    .dataframe tbody tr th {\n",
              "        vertical-align: top;\n",
              "    }\n",
              "\n",
              "    .dataframe thead th {\n",
              "        text-align: right;\n",
              "    }\n",
              "</style>\n",
              "<table border=\"1\" class=\"dataframe\">\n",
              "  <thead>\n",
              "    <tr style=\"text-align: right;\">\n",
              "      <th></th>\n",
              "      <th>Message</th>\n",
              "    </tr>\n",
              "  </thead>\n",
              "  <tbody>\n",
              "    <tr>\n",
              "      <th>0</th>\n",
              "      <td>Dear Sir,\\n\\nPRML quiz was the first exam we h...</td>\n",
              "    </tr>\n",
              "    <tr>\n",
              "      <th>1</th>\n",
              "      <td>Dear Beneficiary,\\n\\nThe United Nations Compen...</td>\n",
              "    </tr>\n",
              "  </tbody>\n",
              "</table>\n",
              "</div>\n",
              "      <button class=\"colab-df-convert\" onclick=\"convertToInteractive('df-3ddb5bfa-62d6-4694-b809-73f7a66a22ee')\"\n",
              "              title=\"Convert this dataframe to an interactive table.\"\n",
              "              style=\"display:none;\">\n",
              "        \n",
              "  <svg xmlns=\"http://www.w3.org/2000/svg\" height=\"24px\"viewBox=\"0 0 24 24\"\n",
              "       width=\"24px\">\n",
              "    <path d=\"M0 0h24v24H0V0z\" fill=\"none\"/>\n",
              "    <path d=\"M18.56 5.44l.94 2.06.94-2.06 2.06-.94-2.06-.94-.94-2.06-.94 2.06-2.06.94zm-11 1L8.5 8.5l.94-2.06 2.06-.94-2.06-.94L8.5 2.5l-.94 2.06-2.06.94zm10 10l.94 2.06.94-2.06 2.06-.94-2.06-.94-.94-2.06-.94 2.06-2.06.94z\"/><path d=\"M17.41 7.96l-1.37-1.37c-.4-.4-.92-.59-1.43-.59-.52 0-1.04.2-1.43.59L10.3 9.45l-7.72 7.72c-.78.78-.78 2.05 0 2.83L4 21.41c.39.39.9.59 1.41.59.51 0 1.02-.2 1.41-.59l7.78-7.78 2.81-2.81c.8-.78.8-2.07 0-2.86zM5.41 20L4 18.59l7.72-7.72 1.47 1.35L5.41 20z\"/>\n",
              "  </svg>\n",
              "      </button>\n",
              "      \n",
              "  <style>\n",
              "    .colab-df-container {\n",
              "      display:flex;\n",
              "      flex-wrap:wrap;\n",
              "      gap: 12px;\n",
              "    }\n",
              "\n",
              "    .colab-df-convert {\n",
              "      background-color: #E8F0FE;\n",
              "      border: none;\n",
              "      border-radius: 50%;\n",
              "      cursor: pointer;\n",
              "      display: none;\n",
              "      fill: #1967D2;\n",
              "      height: 32px;\n",
              "      padding: 0 0 0 0;\n",
              "      width: 32px;\n",
              "    }\n",
              "\n",
              "    .colab-df-convert:hover {\n",
              "      background-color: #E2EBFA;\n",
              "      box-shadow: 0px 1px 2px rgba(60, 64, 67, 0.3), 0px 1px 3px 1px rgba(60, 64, 67, 0.15);\n",
              "      fill: #174EA6;\n",
              "    }\n",
              "\n",
              "    [theme=dark] .colab-df-convert {\n",
              "      background-color: #3B4455;\n",
              "      fill: #D2E3FC;\n",
              "    }\n",
              "\n",
              "    [theme=dark] .colab-df-convert:hover {\n",
              "      background-color: #434B5C;\n",
              "      box-shadow: 0px 1px 3px 1px rgba(0, 0, 0, 0.15);\n",
              "      filter: drop-shadow(0px 1px 2px rgba(0, 0, 0, 0.3));\n",
              "      fill: #FFFFFF;\n",
              "    }\n",
              "  </style>\n",
              "\n",
              "      <script>\n",
              "        const buttonEl =\n",
              "          document.querySelector('#df-3ddb5bfa-62d6-4694-b809-73f7a66a22ee button.colab-df-convert');\n",
              "        buttonEl.style.display =\n",
              "          google.colab.kernel.accessAllowed ? 'block' : 'none';\n",
              "\n",
              "        async function convertToInteractive(key) {\n",
              "          const element = document.querySelector('#df-3ddb5bfa-62d6-4694-b809-73f7a66a22ee');\n",
              "          const dataTable =\n",
              "            await google.colab.kernel.invokeFunction('convertToInteractive',\n",
              "                                                     [key], {});\n",
              "          if (!dataTable) return;\n",
              "\n",
              "          const docLinkHtml = 'Like what you see? Visit the ' +\n",
              "            '<a target=\"_blank\" href=https://colab.research.google.com/notebooks/data_table.ipynb>data table notebook</a>'\n",
              "            + ' to learn more about interactive tables.';\n",
              "          element.innerHTML = '';\n",
              "          dataTable['output_type'] = 'display_data';\n",
              "          await google.colab.output.renderOutput(dataTable, element);\n",
              "          const docLink = document.createElement('div');\n",
              "          docLink.innerHTML = docLinkHtml;\n",
              "          element.appendChild(docLink);\n",
              "        }\n",
              "      </script>\n",
              "    </div>\n",
              "  </div>\n",
              "  "
            ]
          },
          "metadata": {},
          "execution_count": 82
        }
      ]
    },
    {
      "cell_type": "markdown",
      "source": [
        "Extracting Features"
      ],
      "metadata": {
        "id": "PapnVMNyA1tk"
      }
    },
    {
      "cell_type": "code",
      "source": [
        "test_mails = pd.DataFrame(mails)\n",
        "X_test_mails = test_mails['Message']\n",
        "X_test_mails_features = bag_of_words_transform(X_test_mails.values,vocabulary)\n",
        "X_test_mails_features.head()\n"
      ],
      "metadata": {
        "colab": {
          "base_uri": "https://localhost:8080/",
          "height": 205
        },
        "id": "q3E3oyLg3AKq",
        "outputId": "1d1ae6db-e0ac-4676-d709-7e8fd68d93dd"
      },
      "execution_count": 83,
      "outputs": [
        {
          "output_type": "execute_result",
          "data": {
            "text/plain": [
              "   able  anything  yesterday  going  home  work  take  care  print  reach  \\\n",
              "0   0.0       0.0        0.0    0.0   0.0   0.0   0.0   0.0    0.0    0.0   \n",
              "1   0.0       0.0        0.0    0.0   0.0   0.0   0.0   0.0    0.0    0.0   \n",
              "\n",
              "   ...  ree  grandfather  eta  unemployed  unconsciously  unhappy  process  \\\n",
              "0  ...  0.0          0.0  0.0         0.0            0.0      0.0      0.0   \n",
              "1  ...  0.0          0.0  0.0         0.0            0.0      0.0      0.0   \n",
              "\n",
              "   ratio_unique_words  ratio_stop_words  ratio_non_dict_words  \n",
              "0            0.752809      1.262467e-04              0.000001  \n",
              "1            0.740741      3.364058e-41              0.000055  \n",
              "\n",
              "[2 rows x 3022 columns]"
            ],
            "text/html": [
              "\n",
              "  <div id=\"df-367fc092-b92c-4aa6-b8fe-3627db939254\">\n",
              "    <div class=\"colab-df-container\">\n",
              "      <div>\n",
              "<style scoped>\n",
              "    .dataframe tbody tr th:only-of-type {\n",
              "        vertical-align: middle;\n",
              "    }\n",
              "\n",
              "    .dataframe tbody tr th {\n",
              "        vertical-align: top;\n",
              "    }\n",
              "\n",
              "    .dataframe thead th {\n",
              "        text-align: right;\n",
              "    }\n",
              "</style>\n",
              "<table border=\"1\" class=\"dataframe\">\n",
              "  <thead>\n",
              "    <tr style=\"text-align: right;\">\n",
              "      <th></th>\n",
              "      <th>able</th>\n",
              "      <th>anything</th>\n",
              "      <th>yesterday</th>\n",
              "      <th>going</th>\n",
              "      <th>home</th>\n",
              "      <th>work</th>\n",
              "      <th>take</th>\n",
              "      <th>care</th>\n",
              "      <th>print</th>\n",
              "      <th>reach</th>\n",
              "      <th>...</th>\n",
              "      <th>ree</th>\n",
              "      <th>grandfather</th>\n",
              "      <th>eta</th>\n",
              "      <th>unemployed</th>\n",
              "      <th>unconsciously</th>\n",
              "      <th>unhappy</th>\n",
              "      <th>process</th>\n",
              "      <th>ratio_unique_words</th>\n",
              "      <th>ratio_stop_words</th>\n",
              "      <th>ratio_non_dict_words</th>\n",
              "    </tr>\n",
              "  </thead>\n",
              "  <tbody>\n",
              "    <tr>\n",
              "      <th>0</th>\n",
              "      <td>0.0</td>\n",
              "      <td>0.0</td>\n",
              "      <td>0.0</td>\n",
              "      <td>0.0</td>\n",
              "      <td>0.0</td>\n",
              "      <td>0.0</td>\n",
              "      <td>0.0</td>\n",
              "      <td>0.0</td>\n",
              "      <td>0.0</td>\n",
              "      <td>0.0</td>\n",
              "      <td>...</td>\n",
              "      <td>0.0</td>\n",
              "      <td>0.0</td>\n",
              "      <td>0.0</td>\n",
              "      <td>0.0</td>\n",
              "      <td>0.0</td>\n",
              "      <td>0.0</td>\n",
              "      <td>0.0</td>\n",
              "      <td>0.752809</td>\n",
              "      <td>1.262467e-04</td>\n",
              "      <td>0.000001</td>\n",
              "    </tr>\n",
              "    <tr>\n",
              "      <th>1</th>\n",
              "      <td>0.0</td>\n",
              "      <td>0.0</td>\n",
              "      <td>0.0</td>\n",
              "      <td>0.0</td>\n",
              "      <td>0.0</td>\n",
              "      <td>0.0</td>\n",
              "      <td>0.0</td>\n",
              "      <td>0.0</td>\n",
              "      <td>0.0</td>\n",
              "      <td>0.0</td>\n",
              "      <td>...</td>\n",
              "      <td>0.0</td>\n",
              "      <td>0.0</td>\n",
              "      <td>0.0</td>\n",
              "      <td>0.0</td>\n",
              "      <td>0.0</td>\n",
              "      <td>0.0</td>\n",
              "      <td>0.0</td>\n",
              "      <td>0.740741</td>\n",
              "      <td>3.364058e-41</td>\n",
              "      <td>0.000055</td>\n",
              "    </tr>\n",
              "  </tbody>\n",
              "</table>\n",
              "<p>2 rows × 3022 columns</p>\n",
              "</div>\n",
              "      <button class=\"colab-df-convert\" onclick=\"convertToInteractive('df-367fc092-b92c-4aa6-b8fe-3627db939254')\"\n",
              "              title=\"Convert this dataframe to an interactive table.\"\n",
              "              style=\"display:none;\">\n",
              "        \n",
              "  <svg xmlns=\"http://www.w3.org/2000/svg\" height=\"24px\"viewBox=\"0 0 24 24\"\n",
              "       width=\"24px\">\n",
              "    <path d=\"M0 0h24v24H0V0z\" fill=\"none\"/>\n",
              "    <path d=\"M18.56 5.44l.94 2.06.94-2.06 2.06-.94-2.06-.94-.94-2.06-.94 2.06-2.06.94zm-11 1L8.5 8.5l.94-2.06 2.06-.94-2.06-.94L8.5 2.5l-.94 2.06-2.06.94zm10 10l.94 2.06.94-2.06 2.06-.94-2.06-.94-.94-2.06-.94 2.06-2.06.94z\"/><path d=\"M17.41 7.96l-1.37-1.37c-.4-.4-.92-.59-1.43-.59-.52 0-1.04.2-1.43.59L10.3 9.45l-7.72 7.72c-.78.78-.78 2.05 0 2.83L4 21.41c.39.39.9.59 1.41.59.51 0 1.02-.2 1.41-.59l7.78-7.78 2.81-2.81c.8-.78.8-2.07 0-2.86zM5.41 20L4 18.59l7.72-7.72 1.47 1.35L5.41 20z\"/>\n",
              "  </svg>\n",
              "      </button>\n",
              "      \n",
              "  <style>\n",
              "    .colab-df-container {\n",
              "      display:flex;\n",
              "      flex-wrap:wrap;\n",
              "      gap: 12px;\n",
              "    }\n",
              "\n",
              "    .colab-df-convert {\n",
              "      background-color: #E8F0FE;\n",
              "      border: none;\n",
              "      border-radius: 50%;\n",
              "      cursor: pointer;\n",
              "      display: none;\n",
              "      fill: #1967D2;\n",
              "      height: 32px;\n",
              "      padding: 0 0 0 0;\n",
              "      width: 32px;\n",
              "    }\n",
              "\n",
              "    .colab-df-convert:hover {\n",
              "      background-color: #E2EBFA;\n",
              "      box-shadow: 0px 1px 2px rgba(60, 64, 67, 0.3), 0px 1px 3px 1px rgba(60, 64, 67, 0.15);\n",
              "      fill: #174EA6;\n",
              "    }\n",
              "\n",
              "    [theme=dark] .colab-df-convert {\n",
              "      background-color: #3B4455;\n",
              "      fill: #D2E3FC;\n",
              "    }\n",
              "\n",
              "    [theme=dark] .colab-df-convert:hover {\n",
              "      background-color: #434B5C;\n",
              "      box-shadow: 0px 1px 3px 1px rgba(0, 0, 0, 0.15);\n",
              "      filter: drop-shadow(0px 1px 2px rgba(0, 0, 0, 0.3));\n",
              "      fill: #FFFFFF;\n",
              "    }\n",
              "  </style>\n",
              "\n",
              "      <script>\n",
              "        const buttonEl =\n",
              "          document.querySelector('#df-367fc092-b92c-4aa6-b8fe-3627db939254 button.colab-df-convert');\n",
              "        buttonEl.style.display =\n",
              "          google.colab.kernel.accessAllowed ? 'block' : 'none';\n",
              "\n",
              "        async function convertToInteractive(key) {\n",
              "          const element = document.querySelector('#df-367fc092-b92c-4aa6-b8fe-3627db939254');\n",
              "          const dataTable =\n",
              "            await google.colab.kernel.invokeFunction('convertToInteractive',\n",
              "                                                     [key], {});\n",
              "          if (!dataTable) return;\n",
              "\n",
              "          const docLinkHtml = 'Like what you see? Visit the ' +\n",
              "            '<a target=\"_blank\" href=https://colab.research.google.com/notebooks/data_table.ipynb>data table notebook</a>'\n",
              "            + ' to learn more about interactive tables.';\n",
              "          element.innerHTML = '';\n",
              "          dataTable['output_type'] = 'display_data';\n",
              "          await google.colab.output.renderOutput(dataTable, element);\n",
              "          const docLink = document.createElement('div');\n",
              "          docLink.innerHTML = docLinkHtml;\n",
              "          element.appendChild(docLink);\n",
              "        }\n",
              "      </script>\n",
              "    </div>\n",
              "  </div>\n",
              "  "
            ]
          },
          "metadata": {},
          "execution_count": 83
        }
      ]
    },
    {
      "cell_type": "markdown",
      "source": [
        "Preidicting the labels of the mails"
      ],
      "metadata": {
        "id": "NsuI9WAWBAPB"
      }
    },
    {
      "cell_type": "code",
      "source": [
        "y_pred_test_mails = classifier.predict(X_test_mails_features)\n",
        "print(y_pred_test_mails)"
      ],
      "metadata": {
        "colab": {
          "base_uri": "https://localhost:8080/"
        },
        "id": "cGA03C9w-F06",
        "outputId": "39584990-0191-467c-da9f-262b19cef364"
      },
      "execution_count": 84,
      "outputs": [
        {
          "output_type": "stream",
          "name": "stdout",
          "text": [
            "['ham' 'spam']\n"
          ]
        }
      ]
    },
    {
      "cell_type": "code",
      "source": [
        ""
      ],
      "metadata": {
        "id": "PZ3qVLCV-JIE"
      },
      "execution_count": null,
      "outputs": []
    }
  ]
}